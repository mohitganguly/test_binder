{
 "cells": [
  {
   "cell_type": "code",
   "execution_count": null,
   "metadata": {
    "collapsed": true
   },
   "outputs": [],
   "source": [
    "from mpl_toolkits.mplot3d import Axes3D\n",
    "import numpy as np\n",
    "\n",
    "import matplotlib.pyplot as plt\n",
    "import random\n",
    "from scipy.interpolate import griddata\n",
    "from matplotlib import cm\n",
    "from matplotlib.colors import LightSource\n",
    "\n",
    "#\n",
    "\n",
    "x = range(74)\n",
    "y = range(17)\n",
    "\n",
    "\n",
    "y = np.linspace(0.12, 0.46, 17)\n",
    "x = np.linspace(0.036, 1.50, 74)\n",
    "\n",
    "\n",
    "\n",
    "\n",
    "X, Y = np.meshgrid(x, y)\n",
    "\n",
    "#data = np.random.random((17, 74))\n",
    "data1 = np.genfromtxt('error2.csv', delimiter = ',')\n",
    "data2 = np.genfromtxt('error3.csv', delimiter = ',')\n",
    "data3 = np.genfromtxt('error4.csv', delimiter = ',')\n",
    "data4 = np.genfromtxt('error_gna.csv', delimiter = ',')\n",
    "line = data3[:, 72]\n",
    "\n",
    "print x[68], y[14]\n",
    "\n",
    "print data1.shape\n",
    "fig = plt.figure()\n",
    "ax = fig.gca(projection = '3d')\n",
    "#Z = griddata((X, Y), data, (x, y), method = 'cubic')\n",
    "#x = y = np.arange(-3.0, 3.0, 0.05)\n",
    "#X, Y = np.meshgrid(x, y)\n",
    "#zs = np.array([fun(x,y) for x,y in zip(np.ravel(X), np.ravel(Y))])\n",
    "#Z = zs.reshape(X.shape)\n",
    "#ls = LightSource(270, 45)\n",
    "#surf1 = ax.plot_surface(X, Y, data1, rstride=1, cstride=1, cmap=cm.coolwarm, vmin = 0, vmax = 0.6, linewidth=0, antialiased=False)\n",
    "#surf2 = ax.plot_surface(X, Y, data2, rstride=1, cstride=1, cmap = cm.jet, linewidth=0, antialiased=False)\n",
    "#ax.plot_surface(Y, X, data3, lw = 3)\n",
    "#ax.plot(X, Y, line)\n",
    "surf3 = ax.plot_surface(X, Y, data1 +data4, rstride=1, cstride=1, cmap = cm.Greens, vmin = 0, vmax = 0.6,linewidth=0, antialiased=False)\n",
    "#fig.colorbar(surf1)\n",
    "#fig.colorbar(surf3)\n",
    "#ax.set_xlabel('gK max')\n",
    "#ax.set_ylabel('gNa max')\n",
    "#ax.set_zlabel('Error')\n",
    "#plt.imshow(data1+data4)\n",
    "#plt.savefig('surface_python.png', format = 'png', dpi = 600)\n",
    "plt.show()"
   ]
  }
 ],
 "metadata": {
  "kernelspec": {
   "display_name": "Python 2",
   "language": "python",
   "name": "python2"
  },
  "language_info": {
   "codemirror_mode": {
    "name": "ipython",
    "version": 2
   },
   "file_extension": ".py",
   "mimetype": "text/x-python",
   "name": "python",
   "nbconvert_exporter": "python",
   "pygments_lexer": "ipython2",
   "version": "2.7.6"
  }
 },
 "nbformat": 4,
 "nbformat_minor": 0
}
